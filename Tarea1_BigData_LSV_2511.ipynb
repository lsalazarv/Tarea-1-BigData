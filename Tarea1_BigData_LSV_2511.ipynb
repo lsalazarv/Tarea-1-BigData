{
 "cells": [
  {
   "cell_type": "markdown",
   "metadata": {},
   "source": [
    "# PROGRAMA DE CIENCIAS DE LOS DATOS \n",
    "\n",
    "## **Big Data**\n",
    "\n",
    "### **Tarea 1**\n",
    "\n",
    "Profesor: MSc. Felipe Meza\n",
    "\n",
    "\n",
    "Alumno: \n",
    "\n",
    "  Lester Salazar Viales\n",
    "  "
   ]
  },
  {
   "cell_type": "markdown",
   "metadata": {},
   "source": [
    "# Descripción de Segunda Parte de Tarea #1\n",
    "\n",
    "La segunda parte consiste en buscar un dataset de su preferencia (de tamaño similar al caso visto en clase) con datos que reflejen algún proceso real, es decir, datos con sentido. \n",
    "\n",
    "Debe ejecutar (5) acciones de procesado de las vistas en clase, de manera que extraiga conocimiento (INSIGHTS) de los datos para las (5) acciones, posteriormente debe ejecutar (3) acciones procesado de datos que NO se hayan estudiado en clase y explicar claramente cada uno de los 3 métodos (para qué sirven, cuando se usan etc).\n",
    "\n",
    "El entregable debe ser el url en github del NOTEBOOK"
   ]
  },
  {
   "cell_type": "markdown",
   "metadata": {},
   "source": [
    "# Introducción al uso de pyspark"
   ]
  },
  {
   "cell_type": "markdown",
   "metadata": {},
   "source": [
    "### Pre-requisitos"
   ]
  },
  {
   "cell_type": "markdown",
   "metadata": {},
   "source": [
    "- findspark\n",
    "- pyspark\n",
    "- spark"
   ]
  },
  {
   "cell_type": "markdown",
   "metadata": {},
   "source": [
    "##### Importación de Librerias"
   ]
  },
  {
   "cell_type": "code",
   "execution_count": 1,
   "metadata": {},
   "outputs": [],
   "source": [
    "from pyspark.sql import SparkSession\n",
    "\n",
    "spark=SparkSession.builder.appName('data_processing').getOrCreate()\n",
    "\n",
    "import pyspark.sql.functions as F\n",
    "from pyspark.sql.types import *"
   ]
  },
  {
   "cell_type": "code",
   "execution_count": 2,
   "metadata": {},
   "outputs": [],
   "source": [
    "import findspark\n",
    "\n",
    "# Ruta de Apache Spark para sistema Mac/OS\n",
    "#findspark.init('/opt/spark')\n",
    "\n",
    "# Ruta de Apache Spark para sistema Windows/OS\n",
    "findspark.init('C:\\Spark')\n",
    "\n",
    "from datetime import datetime\n",
    "from pyspark.sql import SparkSession\n",
    "from pyspark.sql.functions import col, date_format, udf \n",
    "from pyspark.sql.types import DateType"
   ]
  },
  {
   "cell_type": "markdown",
   "metadata": {},
   "source": [
    "Cargar  a un archivo con datos y generar un DataFrame:"
   ]
  },
  {
   "cell_type": "code",
   "execution_count": 3,
   "metadata": {},
   "outputs": [],
   "source": [
    "# Importación de librería PySpark\n",
    "import pyspark\n",
    "from pyspark import SparkFiles\n",
    "\n",
    "######## CARGADO DE ARCHIVO DESDE INTERNET (GITHUB) ##########\n",
    "#Ruta en Internet del archivo a cargar:\n",
    "url = \"https://raw.githubusercontent.com/lsalazarv/Tarea-1-BigData/master/CompraBicicletas.csv\"\n",
    "spark.sparkContext.addFile(url)\n",
    "\n",
    "# Cargado del archivo csv en un DataFrame\n",
    "df=spark.read.csv(SparkFiles.get(\"CompraBicicletas.csv\"), header=True, inferSchema=True)\n",
    "\n",
    "######## CARGADO DE ARCHIVO DESDE RUTA EN LA PC: JUPYTER NOTEBOOK ##########\n",
    "# Si se quiere cargar un archivo desde el dominio local de Jupyter Notebook\n",
    "#df=spark.read.csv(\"StudentsPerformance.csv\",header=True, inferSchema=True)"
   ]
  },
  {
   "cell_type": "markdown",
   "metadata": {},
   "source": [
    "### Acciones de Procesado visto en clases."
   ]
  },
  {
   "cell_type": "code",
   "execution_count": 4,
   "metadata": {},
   "outputs": [
    {
     "data": {
      "text/plain": [
       "1000"
      ]
     },
     "execution_count": 4,
     "metadata": {},
     "output_type": "execute_result"
    }
   ],
   "source": [
    "df.count()"
   ]
  },
  {
   "cell_type": "code",
   "execution_count": 5,
   "metadata": {},
   "outputs": [
    {
     "data": {
      "text/plain": [
       "13"
      ]
     },
     "execution_count": 5,
     "metadata": {},
     "output_type": "execute_result"
    }
   ],
   "source": [
    "len(df.columns)"
   ]
  },
  {
   "cell_type": "markdown",
   "metadata": {},
   "source": [
    "##### 1) Visualizacon del esquema del DataFrame:"
   ]
  },
  {
   "cell_type": "code",
   "execution_count": 6,
   "metadata": {},
   "outputs": [
    {
     "name": "stdout",
     "output_type": "stream",
     "text": [
      "root\n",
      " |-- ID: integer (nullable = true)\n",
      " |-- MaritalStatus: string (nullable = true)\n",
      " |-- Gender: string (nullable = true)\n",
      " |-- Income: integer (nullable = true)\n",
      " |-- Children: integer (nullable = true)\n",
      " |-- Education: string (nullable = true)\n",
      " |-- Occupation: string (nullable = true)\n",
      " |-- HomeOwner: string (nullable = true)\n",
      " |-- Cars: integer (nullable = true)\n",
      " |-- CommuteDistance: string (nullable = true)\n",
      " |-- Region: string (nullable = true)\n",
      " |-- Age: integer (nullable = true)\n",
      " |-- PurchasedBike: string (nullable = true)\n",
      "\n"
     ]
    }
   ],
   "source": [
    "df.printSchema()"
   ]
  },
  {
   "cell_type": "markdown",
   "metadata": {},
   "source": [
    "##### 2) Visualizacion del DataFrame:"
   ]
  },
  {
   "cell_type": "code",
   "execution_count": 7,
   "metadata": {},
   "outputs": [
    {
     "name": "stdout",
     "output_type": "stream",
     "text": [
      "+-----+-------------+------+------+--------+-----------------+-------------+---------+----+---------------+-------+---+-------------+\n",
      "|   ID|MaritalStatus|Gender|Income|Children|        Education|   Occupation|HomeOwner|Cars|CommuteDistance| Region|Age|PurchasedBike|\n",
      "+-----+-------------+------+------+--------+-----------------+-------------+---------+----+---------------+-------+---+-------------+\n",
      "|12496|      Married|Female| 40000|       1|        Bachelors|SkilledManual|      Yes|   0|       0-1Miles| Europe| 42|           No|\n",
      "|24107|      Married|  Male| 30000|       3|   PartialCollege|     Clerical|      Yes|   1|       0-1Miles| Europe| 43|           No|\n",
      "|14177|      Married|  Male| 80000|       5|   PartialCollege| Professional|       No|   2|       2-5Miles| Europe| 60|           No|\n",
      "|24381|       Single|  Male| 70000|       0|        Bachelors| Professional|      Yes|   1|      5-10Miles|Pacific| 41|          Yes|\n",
      "|25597|       Single|  Male| 30000|       0|        Bachelors|     Clerical|       No|   0|       0-1Miles| Europe| 36|          Yes|\n",
      "|13507|      Married|Female| 10000|       2|   PartialCollege|       Manual|      Yes|   0|       1-2Miles| Europe| 50|           No|\n",
      "|27974|       Single|  Male|160000|       2|       HighSchool|   Management|      Yes|   4|       0-1Miles|Pacific| 33|          Yes|\n",
      "|19364|      Married|  Male| 40000|       1|        Bachelors|SkilledManual|      Yes|   0|       0-1Miles| Europe| 43|          Yes|\n",
      "|22155|      Married|  Male| 20000|       2|PartialHighSchool|     Clerical|      Yes|   2|      5-10Miles|Pacific| 58|           No|\n",
      "|19280|      Married|  Male| 20000|       2|   PartialCollege|       Manual|      Yes|   1|       0-1Miles| Europe| 48|          Yes|\n",
      "|22173|      Married|Female| 30000|       3|       HighSchool|SkilledManual|       No|   2|       1-2Miles|Pacific| 54|          Yes|\n",
      "|12697|       Single|Female| 90000|       0|        Bachelors| Professional|       No|   4|       10+Miles|Pacific| 36|           No|\n",
      "|11434|      Married|  Male|170000|       5|   PartialCollege| Professional|      Yes|   4|       0-1Miles| Europe| 55|           No|\n",
      "|25323|      Married|  Male| 40000|       2|   PartialCollege|     Clerical|      Yes|   1|       1-2Miles| Europe| 35|          Yes|\n",
      "|23542|       Single|  Male| 60000|       1|   PartialCollege|SkilledManual|       No|   1|       0-1Miles|Pacific| 45|          Yes|\n",
      "|20870|       Single|Female| 10000|       2|       HighSchool|       Manual|      Yes|   1|       0-1Miles| Europe| 38|          Yes|\n",
      "|23316|       Single|  Male| 30000|       3|   PartialCollege|     Clerical|       No|   2|       1-2Miles|Pacific| 59|          Yes|\n",
      "|12610|      Married|Female| 30000|       1|        Bachelors|     Clerical|      Yes|   0|       0-1Miles| Europe| 47|           No|\n",
      "|27183|       Single|  Male| 40000|       2|   PartialCollege|     Clerical|      Yes|   1|       1-2Miles| Europe| 35|          Yes|\n",
      "|25940|       Single|  Male| 20000|       2|PartialHighSchool|     Clerical|      Yes|   2|      5-10Miles|Pacific| 55|          Yes|\n",
      "+-----+-------------+------+------+--------+-----------------+-------------+---------+----+---------------+-------+---+-------------+\n",
      "only showing top 20 rows\n",
      "\n"
     ]
    }
   ],
   "source": [
    "df.show()"
   ]
  },
  {
   "cell_type": "markdown",
   "metadata": {},
   "source": [
    "##### 3) Summary"
   ]
  },
  {
   "cell_type": "code",
   "execution_count": 8,
   "metadata": {},
   "outputs": [
    {
     "name": "stdout",
     "output_type": "stream",
     "text": [
      "+-------+-----------------+-------------+------+-----------------+------------------+-----------------+-------------+---------+------------------+---------------+-------+------------------+-------------+\n",
      "|summary|               ID|MaritalStatus|Gender|           Income|          Children|        Education|   Occupation|HomeOwner|              Cars|CommuteDistance| Region|               Age|PurchasedBike|\n",
      "+-------+-----------------+-------------+------+-----------------+------------------+-----------------+-------------+---------+------------------+---------------+-------+------------------+-------------+\n",
      "|  count|             1000|         1000|  1000|             1000|              1000|             1000|         1000|     1000|              1000|           1000|   1000|              1000|         1000|\n",
      "|   mean|        19965.992|         null|  null|          56140.0|             1.908|             null|         null|     null|             1.452|           null|   null|             44.19|         null|\n",
      "| stddev|5347.333948454342|         null|  null|31081.60977920009|1.6260935336505653|             null|         null|     null|1.1247048328165763|           null|   null|11.353537017282449|         null|\n",
      "|    min|            11000|      Married|Female|            10000|                 0|        Bachelors|     Clerical|       No|                 0|       0-1Miles| Europe|                25|           No|\n",
      "|    25%|            15287|         null|  null|            30000|                 0|             null|         null|     null|                 1|           null|   null|                35|         null|\n",
      "|    50%|            19741|         null|  null|            60000|                 2|             null|         null|     null|                 1|           null|   null|                43|         null|\n",
      "|    75%|            24466|         null|  null|            70000|                 3|             null|         null|     null|                 2|           null|   null|                52|         null|\n",
      "|    max|            29447|       Single|  Male|           170000|                 5|PartialHighSchool|SkilledManual|      Yes|                 4|      5-10Miles|Pacific|                89|          Yes|\n",
      "+-------+-----------------+-------------+------+-----------------+------------------+-----------------+-------------+---------+------------------+---------------+-------+------------------+-------------+\n",
      "\n"
     ]
    }
   ],
   "source": [
    "df.summary().show()"
   ]
  },
  {
   "cell_type": "markdown",
   "metadata": {},
   "source": [
    "##### 4) Mostrar Columnas y filas"
   ]
  },
  {
   "cell_type": "code",
   "execution_count": 9,
   "metadata": {},
   "outputs": [
    {
     "name": "stdout",
     "output_type": "stream",
     "text": [
      "+------+------+-----------------+\n",
      "|Gender|Income|        Education|\n",
      "+------+------+-----------------+\n",
      "|Female| 40000|        Bachelors|\n",
      "|  Male| 30000|   PartialCollege|\n",
      "|  Male| 80000|   PartialCollege|\n",
      "|  Male| 70000|        Bachelors|\n",
      "|  Male| 30000|        Bachelors|\n",
      "|Female| 10000|   PartialCollege|\n",
      "|  Male|160000|       HighSchool|\n",
      "|  Male| 40000|        Bachelors|\n",
      "|  Male| 20000|PartialHighSchool|\n",
      "|  Male| 20000|   PartialCollege|\n",
      "|Female| 30000|       HighSchool|\n",
      "|Female| 90000|        Bachelors|\n",
      "|  Male|170000|   PartialCollege|\n",
      "|  Male| 40000|   PartialCollege|\n",
      "|  Male| 60000|   PartialCollege|\n",
      "|Female| 10000|       HighSchool|\n",
      "|  Male| 30000|   PartialCollege|\n",
      "|Female| 30000|        Bachelors|\n",
      "|  Male| 40000|   PartialCollege|\n",
      "|  Male| 20000|PartialHighSchool|\n",
      "+------+------+-----------------+\n",
      "only showing top 20 rows\n",
      "\n"
     ]
    }
   ],
   "source": [
    "df.select(['Gender','Income','Education']).show()"
   ]
  },
  {
   "cell_type": "markdown",
   "metadata": {},
   "source": [
    "##### 5) Mostrar datos a partir de un Criterio"
   ]
  },
  {
   "cell_type": "code",
   "execution_count": 10,
   "metadata": {},
   "outputs": [
    {
     "data": {
      "text/plain": [
       "208"
      ]
     },
     "execution_count": 10,
     "metadata": {},
     "output_type": "execute_result"
    }
   ],
   "source": [
    "df.filter(df['Children'] > 3).count()"
   ]
  },
  {
   "cell_type": "code",
   "execution_count": 11,
   "metadata": {},
   "outputs": [
    {
     "name": "stdout",
     "output_type": "stream",
     "text": [
      "+-----+-------------+------+------+--------+--------------+-------------+---------+----+---------------+-------+---+-------------+\n",
      "|   ID|MaritalStatus|Gender|Income|Children|     Education|   Occupation|HomeOwner|Cars|CommuteDistance| Region|Age|PurchasedBike|\n",
      "+-----+-------------+------+------+--------+--------------+-------------+---------+----+---------------+-------+---+-------------+\n",
      "|14177|      Married|  Male| 80000|       5|PartialCollege| Professional|       No|   2|       2-5Miles| Europe| 60|           No|\n",
      "|24381|       Single|  Male| 70000|       0|     Bachelors| Professional|      Yes|   1|      5-10Miles|Pacific| 41|          Yes|\n",
      "|27974|       Single|  Male|160000|       2|    HighSchool|   Management|      Yes|   4|       0-1Miles|Pacific| 33|          Yes|\n",
      "|12697|       Single|Female| 90000|       0|     Bachelors| Professional|       No|   4|       10+Miles|Pacific| 36|           No|\n",
      "|11434|      Married|  Male|170000|       5|PartialCollege| Professional|      Yes|   4|       0-1Miles| Europe| 55|           No|\n",
      "|23542|       Single|  Male| 60000|       1|PartialCollege|SkilledManual|       No|   1|       0-1Miles|Pacific| 45|          Yes|\n",
      "|21564|       Single|Female| 80000|       0|     Bachelors| Professional|      Yes|   4|       10+Miles|Pacific| 35|           No|\n",
      "|26412|      Married|Female| 80000|       5|    HighSchool|   Management|       No|   3|      5-10Miles| Europe| 56|           No|\n",
      "|18283|       Single|Female|100000|       0|     Bachelors| Professional|       No|   1|      5-10Miles|Pacific| 40|           No|\n",
      "|18299|      Married|  Male| 70000|       5|PartialCollege|SkilledManual|      Yes|   2|      5-10Miles|Pacific| 44|           No|\n",
      "|18484|       Single|  Male| 80000|       2|    HighSchool|SkilledManual|       No|   2|       1-2Miles|Pacific| 50|          Yes|\n",
      "|12291|       Single|  Male| 90000|       5|PartialCollege| Professional|       No|   2|       2-5Miles| Europe| 62|          Yes|\n",
      "|17185|      Married|Female|170000|       4|PartialCollege| Professional|       No|   3|      5-10Miles| Europe| 48|          Yes|\n",
      "|24466|      Married|Female| 60000|       1|PartialCollege|SkilledManual|      Yes|   1|      5-10Miles|Pacific| 46|          Yes|\n",
      "|20619|       Single|  Male| 80000|       0|     Bachelors| Professional|       No|   4|       10+Miles|Pacific| 35|           No|\n",
      "|24871|       Single|Female| 90000|       4|    HighSchool|   Management|       No|   3|      5-10Miles| Europe| 56|           No|\n",
      "|17319|       Single|Female| 70000|       0|     Bachelors| Professional|       No|   1|      5-10Miles|Pacific| 42|           No|\n",
      "|28906|      Married|  Male| 80000|       4|    HighSchool| Professional|      Yes|   2|       10+Miles| Europe| 54|           No|\n",
      "|20567|      Married|  Male|130000|       4|PartialCollege| Professional|       No|   4|      5-10Miles| Europe| 61|          Yes|\n",
      "|15580|      Married|  Male| 60000|       2|     Bachelors| Professional|      Yes|   1|       2-5Miles|Pacific| 38|          Yes|\n",
      "+-----+-------------+------+------+--------+--------------+-------------+---------+----+---------------+-------+---+-------------+\n",
      "only showing top 20 rows\n",
      "\n"
     ]
    }
   ],
   "source": [
    "df.filter(df['Income'] > 40000).show()"
   ]
  },
  {
   "cell_type": "markdown",
   "metadata": {},
   "source": [
    "Para saber cuantos datos hay de una categoria"
   ]
  },
  {
   "cell_type": "code",
   "execution_count": 12,
   "metadata": {},
   "outputs": [
    {
     "name": "stdout",
     "output_type": "stream",
     "text": [
      "+--------+-----+\n",
      "|Children|count|\n",
      "+--------+-----+\n",
      "|       1|  170|\n",
      "|       3|  135|\n",
      "|       5|   81|\n",
      "|       4|  127|\n",
      "|       2|  210|\n",
      "|       0|  277|\n",
      "+--------+-----+\n",
      "\n"
     ]
    }
   ],
   "source": [
    "df.groupBy('Children').count().show()"
   ]
  },
  {
   "cell_type": "markdown",
   "metadata": {},
   "source": [
    "## Metodos no vistos en clases"
   ]
  },
  {
   "cell_type": "markdown",
   "metadata": {},
   "source": [
    "######  1) Para saber cuantos valores nulos hay por columna, se realiza conteo de los nulos"
   ]
  },
  {
   "cell_type": "code",
   "execution_count": 13,
   "metadata": {},
   "outputs": [
    {
     "data": {
      "text/html": [
       "<div>\n",
       "<style scoped>\n",
       "    .dataframe tbody tr th:only-of-type {\n",
       "        vertical-align: middle;\n",
       "    }\n",
       "\n",
       "    .dataframe tbody tr th {\n",
       "        vertical-align: top;\n",
       "    }\n",
       "\n",
       "    .dataframe thead th {\n",
       "        text-align: right;\n",
       "    }\n",
       "</style>\n",
       "<table border=\"1\" class=\"dataframe\">\n",
       "  <thead>\n",
       "    <tr style=\"text-align: right;\">\n",
       "      <th></th>\n",
       "      <th>ID</th>\n",
       "      <th>MaritalStatus</th>\n",
       "      <th>Gender</th>\n",
       "      <th>Income</th>\n",
       "      <th>Children</th>\n",
       "      <th>Education</th>\n",
       "      <th>Occupation</th>\n",
       "      <th>HomeOwner</th>\n",
       "      <th>Cars</th>\n",
       "      <th>CommuteDistance</th>\n",
       "      <th>Region</th>\n",
       "      <th>Age</th>\n",
       "      <th>PurchasedBike</th>\n",
       "    </tr>\n",
       "  </thead>\n",
       "  <tbody>\n",
       "    <tr>\n",
       "      <th>0</th>\n",
       "      <td>0</td>\n",
       "      <td>0</td>\n",
       "      <td>0</td>\n",
       "      <td>0</td>\n",
       "      <td>0</td>\n",
       "      <td>0</td>\n",
       "      <td>0</td>\n",
       "      <td>0</td>\n",
       "      <td>0</td>\n",
       "      <td>0</td>\n",
       "      <td>0</td>\n",
       "      <td>0</td>\n",
       "      <td>0</td>\n",
       "    </tr>\n",
       "  </tbody>\n",
       "</table>\n",
       "</div>"
      ],
      "text/plain": [
       "   ID  MaritalStatus  Gender  Income  Children  Education  Occupation  \\\n",
       "0   0              0       0       0         0          0           0   \n",
       "\n",
       "   HomeOwner  Cars  CommuteDistance  Region  Age  PurchasedBike  \n",
       "0          0     0                0       0    0              0  "
      ]
     },
     "execution_count": 13,
     "metadata": {},
     "output_type": "execute_result"
    }
   ],
   "source": [
    "df_null = df.select(*(F.sum(F.col(c).isNull().cast('integer')).alias(c) for c in df.columns)).toPandas()\n",
    "df_null"
   ]
  },
  {
   "cell_type": "code",
   "execution_count": 14,
   "metadata": {},
   "outputs": [],
   "source": [
    "df_select1 = df.columns[1:]\n",
    "df_select2 = df.columns[1:-1]"
   ]
  },
  {
   "cell_type": "markdown",
   "metadata": {},
   "source": [
    "###### 2) Se obtiene la estadistica descriptiva y se hace una transposicion de las columnas, el motivo es para que las etiquetas queden en las filas y los valores columnados para una mejor apreciacion."
   ]
  },
  {
   "cell_type": "code",
   "execution_count": 15,
   "metadata": {},
   "outputs": [
    {
     "data": {
      "text/html": [
       "<div>\n",
       "<style scoped>\n",
       "    .dataframe tbody tr th:only-of-type {\n",
       "        vertical-align: middle;\n",
       "    }\n",
       "\n",
       "    .dataframe tbody tr th {\n",
       "        vertical-align: top;\n",
       "    }\n",
       "\n",
       "    .dataframe thead th {\n",
       "        text-align: right;\n",
       "    }\n",
       "</style>\n",
       "<table border=\"1\" class=\"dataframe\">\n",
       "  <thead>\n",
       "    <tr style=\"text-align: right;\">\n",
       "      <th></th>\n",
       "      <th>0</th>\n",
       "      <th>1</th>\n",
       "      <th>2</th>\n",
       "      <th>3</th>\n",
       "      <th>4</th>\n",
       "    </tr>\n",
       "  </thead>\n",
       "  <tbody>\n",
       "    <tr>\n",
       "      <th>summary</th>\n",
       "      <td>count</td>\n",
       "      <td>mean</td>\n",
       "      <td>stddev</td>\n",
       "      <td>min</td>\n",
       "      <td>max</td>\n",
       "    </tr>\n",
       "    <tr>\n",
       "      <th>MaritalStatus</th>\n",
       "      <td>1000</td>\n",
       "      <td>None</td>\n",
       "      <td>None</td>\n",
       "      <td>Married</td>\n",
       "      <td>Single</td>\n",
       "    </tr>\n",
       "    <tr>\n",
       "      <th>Gender</th>\n",
       "      <td>1000</td>\n",
       "      <td>None</td>\n",
       "      <td>None</td>\n",
       "      <td>Female</td>\n",
       "      <td>Male</td>\n",
       "    </tr>\n",
       "    <tr>\n",
       "      <th>Income</th>\n",
       "      <td>1000</td>\n",
       "      <td>56140.0</td>\n",
       "      <td>31081.60977920009</td>\n",
       "      <td>10000</td>\n",
       "      <td>170000</td>\n",
       "    </tr>\n",
       "    <tr>\n",
       "      <th>Children</th>\n",
       "      <td>1000</td>\n",
       "      <td>1.908</td>\n",
       "      <td>1.6260935336505653</td>\n",
       "      <td>0</td>\n",
       "      <td>5</td>\n",
       "    </tr>\n",
       "    <tr>\n",
       "      <th>Education</th>\n",
       "      <td>1000</td>\n",
       "      <td>None</td>\n",
       "      <td>None</td>\n",
       "      <td>Bachelors</td>\n",
       "      <td>PartialHighSchool</td>\n",
       "    </tr>\n",
       "    <tr>\n",
       "      <th>Occupation</th>\n",
       "      <td>1000</td>\n",
       "      <td>None</td>\n",
       "      <td>None</td>\n",
       "      <td>Clerical</td>\n",
       "      <td>SkilledManual</td>\n",
       "    </tr>\n",
       "    <tr>\n",
       "      <th>HomeOwner</th>\n",
       "      <td>1000</td>\n",
       "      <td>None</td>\n",
       "      <td>None</td>\n",
       "      <td>No</td>\n",
       "      <td>Yes</td>\n",
       "    </tr>\n",
       "    <tr>\n",
       "      <th>Cars</th>\n",
       "      <td>1000</td>\n",
       "      <td>1.452</td>\n",
       "      <td>1.1247048328165763</td>\n",
       "      <td>0</td>\n",
       "      <td>4</td>\n",
       "    </tr>\n",
       "    <tr>\n",
       "      <th>CommuteDistance</th>\n",
       "      <td>1000</td>\n",
       "      <td>None</td>\n",
       "      <td>None</td>\n",
       "      <td>0-1Miles</td>\n",
       "      <td>5-10Miles</td>\n",
       "    </tr>\n",
       "    <tr>\n",
       "      <th>Region</th>\n",
       "      <td>1000</td>\n",
       "      <td>None</td>\n",
       "      <td>None</td>\n",
       "      <td>Europe</td>\n",
       "      <td>Pacific</td>\n",
       "    </tr>\n",
       "    <tr>\n",
       "      <th>Age</th>\n",
       "      <td>1000</td>\n",
       "      <td>44.19</td>\n",
       "      <td>11.353537017282449</td>\n",
       "      <td>25</td>\n",
       "      <td>89</td>\n",
       "    </tr>\n",
       "    <tr>\n",
       "      <th>PurchasedBike</th>\n",
       "      <td>1000</td>\n",
       "      <td>None</td>\n",
       "      <td>None</td>\n",
       "      <td>No</td>\n",
       "      <td>Yes</td>\n",
       "    </tr>\n",
       "  </tbody>\n",
       "</table>\n",
       "</div>"
      ],
      "text/plain": [
       "                     0        1                   2          3  \\\n",
       "summary          count     mean              stddev        min   \n",
       "MaritalStatus     1000     None                None    Married   \n",
       "Gender            1000     None                None     Female   \n",
       "Income            1000  56140.0   31081.60977920009      10000   \n",
       "Children          1000    1.908  1.6260935336505653          0   \n",
       "Education         1000     None                None  Bachelors   \n",
       "Occupation        1000     None                None   Clerical   \n",
       "HomeOwner         1000     None                None         No   \n",
       "Cars              1000    1.452  1.1247048328165763          0   \n",
       "CommuteDistance   1000     None                None   0-1Miles   \n",
       "Region            1000     None                None     Europe   \n",
       "Age               1000    44.19  11.353537017282449         25   \n",
       "PurchasedBike     1000     None                None         No   \n",
       "\n",
       "                                 4  \n",
       "summary                        max  \n",
       "MaritalStatus               Single  \n",
       "Gender                        Male  \n",
       "Income                      170000  \n",
       "Children                         5  \n",
       "Education        PartialHighSchool  \n",
       "Occupation           SkilledManual  \n",
       "HomeOwner                      Yes  \n",
       "Cars                             4  \n",
       "CommuteDistance          5-10Miles  \n",
       "Region                     Pacific  \n",
       "Age                             89  \n",
       "PurchasedBike                  Yes  "
      ]
     },
     "execution_count": 15,
     "metadata": {},
     "output_type": "execute_result"
    }
   ],
   "source": [
    "df_select1 = df.columns[1:]\n",
    "df_describe = df.select([c for c in df_select1]).describe().toPandas().transpose()\n",
    "df_describe"
   ]
  },
  {
   "cell_type": "markdown",
   "metadata": {},
   "source": [
    "#### 3) Mostrar los nombres de las columnas de un DataFrame:"
   ]
  },
  {
   "cell_type": "code",
   "execution_count": 16,
   "metadata": {},
   "outputs": [
    {
     "data": {
      "text/plain": [
       "['ID',\n",
       " 'MaritalStatus',\n",
       " 'Gender',\n",
       " 'Income',\n",
       " 'Children',\n",
       " 'Education',\n",
       " 'Occupation',\n",
       " 'HomeOwner',\n",
       " 'Cars',\n",
       " 'CommuteDistance',\n",
       " 'Region',\n",
       " 'Age',\n",
       " 'PurchasedBike']"
      ]
     },
     "execution_count": 16,
     "metadata": {},
     "output_type": "execute_result"
    }
   ],
   "source": [
    "df.columns"
   ]
  },
  {
   "cell_type": "markdown",
   "metadata": {},
   "source": [
    "######  4) Primeros 10 valores del dataset y se formatean a tabla en formato de pandas.\n",
    "Sirve para darle una mejor visualizacon a los datos"
   ]
  },
  {
   "cell_type": "code",
   "execution_count": 17,
   "metadata": {},
   "outputs": [
    {
     "data": {
      "text/html": [
       "<div>\n",
       "<style scoped>\n",
       "    .dataframe tbody tr th:only-of-type {\n",
       "        vertical-align: middle;\n",
       "    }\n",
       "\n",
       "    .dataframe tbody tr th {\n",
       "        vertical-align: top;\n",
       "    }\n",
       "\n",
       "    .dataframe thead th {\n",
       "        text-align: right;\n",
       "    }\n",
       "</style>\n",
       "<table border=\"1\" class=\"dataframe\">\n",
       "  <thead>\n",
       "    <tr style=\"text-align: right;\">\n",
       "      <th></th>\n",
       "      <th>ID</th>\n",
       "      <th>MaritalStatus</th>\n",
       "      <th>Gender</th>\n",
       "      <th>Income</th>\n",
       "      <th>Children</th>\n",
       "      <th>Education</th>\n",
       "      <th>Occupation</th>\n",
       "      <th>HomeOwner</th>\n",
       "      <th>Cars</th>\n",
       "      <th>CommuteDistance</th>\n",
       "      <th>Region</th>\n",
       "      <th>Age</th>\n",
       "      <th>PurchasedBike</th>\n",
       "    </tr>\n",
       "  </thead>\n",
       "  <tbody>\n",
       "    <tr>\n",
       "      <th>0</th>\n",
       "      <td>12496</td>\n",
       "      <td>Married</td>\n",
       "      <td>Female</td>\n",
       "      <td>40000</td>\n",
       "      <td>1</td>\n",
       "      <td>Bachelors</td>\n",
       "      <td>SkilledManual</td>\n",
       "      <td>Yes</td>\n",
       "      <td>0</td>\n",
       "      <td>0-1Miles</td>\n",
       "      <td>Europe</td>\n",
       "      <td>42</td>\n",
       "      <td>No</td>\n",
       "    </tr>\n",
       "    <tr>\n",
       "      <th>1</th>\n",
       "      <td>24107</td>\n",
       "      <td>Married</td>\n",
       "      <td>Male</td>\n",
       "      <td>30000</td>\n",
       "      <td>3</td>\n",
       "      <td>PartialCollege</td>\n",
       "      <td>Clerical</td>\n",
       "      <td>Yes</td>\n",
       "      <td>1</td>\n",
       "      <td>0-1Miles</td>\n",
       "      <td>Europe</td>\n",
       "      <td>43</td>\n",
       "      <td>No</td>\n",
       "    </tr>\n",
       "    <tr>\n",
       "      <th>2</th>\n",
       "      <td>14177</td>\n",
       "      <td>Married</td>\n",
       "      <td>Male</td>\n",
       "      <td>80000</td>\n",
       "      <td>5</td>\n",
       "      <td>PartialCollege</td>\n",
       "      <td>Professional</td>\n",
       "      <td>No</td>\n",
       "      <td>2</td>\n",
       "      <td>2-5Miles</td>\n",
       "      <td>Europe</td>\n",
       "      <td>60</td>\n",
       "      <td>No</td>\n",
       "    </tr>\n",
       "    <tr>\n",
       "      <th>3</th>\n",
       "      <td>24381</td>\n",
       "      <td>Single</td>\n",
       "      <td>Male</td>\n",
       "      <td>70000</td>\n",
       "      <td>0</td>\n",
       "      <td>Bachelors</td>\n",
       "      <td>Professional</td>\n",
       "      <td>Yes</td>\n",
       "      <td>1</td>\n",
       "      <td>5-10Miles</td>\n",
       "      <td>Pacific</td>\n",
       "      <td>41</td>\n",
       "      <td>Yes</td>\n",
       "    </tr>\n",
       "    <tr>\n",
       "      <th>4</th>\n",
       "      <td>25597</td>\n",
       "      <td>Single</td>\n",
       "      <td>Male</td>\n",
       "      <td>30000</td>\n",
       "      <td>0</td>\n",
       "      <td>Bachelors</td>\n",
       "      <td>Clerical</td>\n",
       "      <td>No</td>\n",
       "      <td>0</td>\n",
       "      <td>0-1Miles</td>\n",
       "      <td>Europe</td>\n",
       "      <td>36</td>\n",
       "      <td>Yes</td>\n",
       "    </tr>\n",
       "    <tr>\n",
       "      <th>5</th>\n",
       "      <td>13507</td>\n",
       "      <td>Married</td>\n",
       "      <td>Female</td>\n",
       "      <td>10000</td>\n",
       "      <td>2</td>\n",
       "      <td>PartialCollege</td>\n",
       "      <td>Manual</td>\n",
       "      <td>Yes</td>\n",
       "      <td>0</td>\n",
       "      <td>1-2Miles</td>\n",
       "      <td>Europe</td>\n",
       "      <td>50</td>\n",
       "      <td>No</td>\n",
       "    </tr>\n",
       "    <tr>\n",
       "      <th>6</th>\n",
       "      <td>27974</td>\n",
       "      <td>Single</td>\n",
       "      <td>Male</td>\n",
       "      <td>160000</td>\n",
       "      <td>2</td>\n",
       "      <td>HighSchool</td>\n",
       "      <td>Management</td>\n",
       "      <td>Yes</td>\n",
       "      <td>4</td>\n",
       "      <td>0-1Miles</td>\n",
       "      <td>Pacific</td>\n",
       "      <td>33</td>\n",
       "      <td>Yes</td>\n",
       "    </tr>\n",
       "    <tr>\n",
       "      <th>7</th>\n",
       "      <td>19364</td>\n",
       "      <td>Married</td>\n",
       "      <td>Male</td>\n",
       "      <td>40000</td>\n",
       "      <td>1</td>\n",
       "      <td>Bachelors</td>\n",
       "      <td>SkilledManual</td>\n",
       "      <td>Yes</td>\n",
       "      <td>0</td>\n",
       "      <td>0-1Miles</td>\n",
       "      <td>Europe</td>\n",
       "      <td>43</td>\n",
       "      <td>Yes</td>\n",
       "    </tr>\n",
       "    <tr>\n",
       "      <th>8</th>\n",
       "      <td>22155</td>\n",
       "      <td>Married</td>\n",
       "      <td>Male</td>\n",
       "      <td>20000</td>\n",
       "      <td>2</td>\n",
       "      <td>PartialHighSchool</td>\n",
       "      <td>Clerical</td>\n",
       "      <td>Yes</td>\n",
       "      <td>2</td>\n",
       "      <td>5-10Miles</td>\n",
       "      <td>Pacific</td>\n",
       "      <td>58</td>\n",
       "      <td>No</td>\n",
       "    </tr>\n",
       "    <tr>\n",
       "      <th>9</th>\n",
       "      <td>19280</td>\n",
       "      <td>Married</td>\n",
       "      <td>Male</td>\n",
       "      <td>20000</td>\n",
       "      <td>2</td>\n",
       "      <td>PartialCollege</td>\n",
       "      <td>Manual</td>\n",
       "      <td>Yes</td>\n",
       "      <td>1</td>\n",
       "      <td>0-1Miles</td>\n",
       "      <td>Europe</td>\n",
       "      <td>48</td>\n",
       "      <td>Yes</td>\n",
       "    </tr>\n",
       "  </tbody>\n",
       "</table>\n",
       "</div>"
      ],
      "text/plain": [
       "      ID MaritalStatus  Gender  Income  Children          Education  \\\n",
       "0  12496       Married  Female   40000         1          Bachelors   \n",
       "1  24107       Married    Male   30000         3     PartialCollege   \n",
       "2  14177       Married    Male   80000         5     PartialCollege   \n",
       "3  24381        Single    Male   70000         0          Bachelors   \n",
       "4  25597        Single    Male   30000         0          Bachelors   \n",
       "5  13507       Married  Female   10000         2     PartialCollege   \n",
       "6  27974        Single    Male  160000         2         HighSchool   \n",
       "7  19364       Married    Male   40000         1          Bachelors   \n",
       "8  22155       Married    Male   20000         2  PartialHighSchool   \n",
       "9  19280       Married    Male   20000         2     PartialCollege   \n",
       "\n",
       "      Occupation HomeOwner  Cars CommuteDistance   Region  Age PurchasedBike  \n",
       "0  SkilledManual       Yes     0        0-1Miles   Europe   42            No  \n",
       "1       Clerical       Yes     1        0-1Miles   Europe   43            No  \n",
       "2   Professional        No     2        2-5Miles   Europe   60            No  \n",
       "3   Professional       Yes     1       5-10Miles  Pacific   41           Yes  \n",
       "4       Clerical        No     0        0-1Miles   Europe   36           Yes  \n",
       "5         Manual       Yes     0        1-2Miles   Europe   50            No  \n",
       "6     Management       Yes     4        0-1Miles  Pacific   33           Yes  \n",
       "7  SkilledManual       Yes     0        0-1Miles   Europe   43           Yes  \n",
       "8       Clerical       Yes     2       5-10Miles  Pacific   58            No  \n",
       "9         Manual       Yes     1        0-1Miles   Europe   48           Yes  "
      ]
     },
     "execution_count": 17,
     "metadata": {},
     "output_type": "execute_result"
    }
   ],
   "source": [
    "df_dataset = df.limit(10)\n",
    "df_dataset.toPandas()"
   ]
  },
  {
   "cell_type": "markdown",
   "metadata": {},
   "source": [
    "###### Detección de valores unicos.\n",
    "Esta forma recorre el dataset variable por variable y detecta los valores unicos en cada una"
   ]
  },
  {
   "cell_type": "code",
   "execution_count": 18,
   "metadata": {},
   "outputs": [
    {
     "name": "stdout",
     "output_type": "stream",
     "text": [
      "variable MaritalStatus , count 2\n",
      "variable Gender , count 2\n",
      "variable Income , count 16\n",
      "variable Children , count 6\n",
      "variable Education , count 5\n",
      "variable Occupation , count 5\n",
      "variable HomeOwner , count 2\n",
      "variable Cars , count 5\n",
      "variable CommuteDistance , count 5\n",
      "variable Region , count 3\n",
      "variable Age , count 53\n",
      "variable PurchasedBike , count 2\n"
     ]
    }
   ],
   "source": [
    "for col in df_select1:\n",
    "    col_count = df.select(col).distinct().count()\n",
    "    print('variable {0} , count {1}'.format(col, col_count))"
   ]
  },
  {
   "cell_type": "code",
   "execution_count": null,
   "metadata": {},
   "outputs": [],
   "source": []
  }
 ],
 "metadata": {
  "kernelspec": {
   "display_name": "Python 3",
   "language": "python",
   "name": "python3"
  },
  "language_info": {
   "codemirror_mode": {
    "name": "ipython",
    "version": 3
   },
   "file_extension": ".py",
   "mimetype": "text/x-python",
   "name": "python",
   "nbconvert_exporter": "python",
   "pygments_lexer": "ipython3",
   "version": "3.7.5"
  }
 },
 "nbformat": 4,
 "nbformat_minor": 2
}
